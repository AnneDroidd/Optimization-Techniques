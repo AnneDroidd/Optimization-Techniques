{
 "cells": [
  {
   "cell_type": "markdown",
   "metadata": {},
   "source": [
    "# Johnson's Algorithm \n",
    "### for 2 machines and n jobs"
   ]
  },
  {
   "cell_type": "code",
   "execution_count": 59,
   "metadata": {},
   "outputs": [
    {
     "name": "stdout",
     "output_type": "stream",
     "text": [
      "Enter the number of jobs5\n",
      "Enter time for M1 for task 5\n",
      "Enter time for M2 for task 2\n",
      "Enter time for M1 for task 1\n",
      "Enter time for M2 for task 6\n",
      "Enter time for M1 for task 9\n",
      "Enter time for M2 for task 7\n",
      "Enter time for M1 for task 3\n",
      "Enter time for M2 for task 8\n",
      "Enter time for M1 for task 10\n",
      "Enter time for M2 for task 4\n"
     ]
    }
   ],
   "source": [
    "jobs=int(input(\"Enter the number of jobs\"))\n",
    "jobs_lst=[i for i in range(1,jobs+1)]\n",
    "MachineA=list()\n",
    "MachineB=list()\n",
    "for i in range(0,jobs):\n",
    "    n1=int(input(\"Enter time for M1 for task \"))\n",
    "    MachineA.append(n1)\n",
    "    n2=int(input(\"Enter time for M2 for task \"))\n",
    "    MachineB.append(n2)"
   ]
  },
  {
   "cell_type": "code",
   "execution_count": 60,
   "metadata": {},
   "outputs": [
    {
     "name": "stdout",
     "output_type": "stream",
     "text": [
      "Jobs [1, 2, 3, 4, 5]\n",
      "MA  [5, 1, 9, 3, 10]\n",
      "MB  [2, 6, 7, 8, 4]\n"
     ]
    }
   ],
   "source": [
    "print(\"Jobs\",jobs_lst)\n",
    "print(\"MA \",MachineA)\n",
    "print(\"MB \",MachineB)"
   ]
  },
  {
   "cell_type": "code",
   "execution_count": 61,
   "metadata": {},
   "outputs": [],
   "source": [
    "# Finding minimum from MB or MA when there is a tie\n",
    "def finding_min(MB, idx):\n",
    "    mini=MB[idx[0]]\n",
    "    i=0\n",
    "    indx=0\n",
    "    while i<len(idx):\n",
    "        if mini>=MB[idx[i]]:\n",
    "            mini=MB[idx[i]]\n",
    "            indx=idx[i]\n",
    "        i+=1\n",
    "    return mini,indx"
   ]
  },
  {
   "cell_type": "code",
   "execution_count": 62,
   "metadata": {},
   "outputs": [
    {
     "name": "stdout",
     "output_type": "stream",
     "text": [
      "Optimal Sequence is  [2, 4, 3, 5, 1]\n"
     ]
    }
   ],
   "source": [
    "Sequence1 = [] #Stores Optimal Sequence for MA\n",
    "Sequence2 = [] #Stores Optimal Sequence for MB\n",
    "\n",
    "while len(jobs_lst)!=0:\n",
    "    min1=min(MachineA)\n",
    "    min1_idx=MachineA.index(min1)\n",
    "    min2=min(MachineB)\n",
    "    min2_idx=MachineB.index(min2)\n",
    "    \n",
    "    #Checking if MA requires less time or MB\n",
    "    if min1<min2:\n",
    "        indices=[i for i, x in enumerate(MachineA) if x == min1]\n",
    "        #Checking for condition when 2 or more jobs require same time\n",
    "        if len(indices)>1:\n",
    "            #find min among b and the index\n",
    "            #and add jobs_lst[index] to sequence, delete A,B,jobs_lst at those indices\n",
    "            for i in range(0,len(indices)):\n",
    "                min3,idx=finding_min(MachineB,indices)\n",
    "                Sequence1.append(jobs_lst[idx])\n",
    "                MachineB.pop(idx)\n",
    "                MachineA.pop(idx)\n",
    "                jobs_lst.pop(idx)\n",
    "                indices.remove(idx)\n",
    "                i=i+1\n",
    "        #when the time is unique\n",
    "        else:\n",
    "            Sequence1.append(jobs_lst[min1_idx])\n",
    "            jobs_lst.pop(min1_idx)\n",
    "            MachineA.pop(min1_idx)\n",
    "            MachineB.pop(min1_idx)\n",
    "            \n",
    "    elif min2<min1:\n",
    "        indices=[i for i, x in enumerate(MachineB) if x == min2]\n",
    "        #Checking for condition when 2 or more jobs require same time\n",
    "        if len(indices)>1:\n",
    "                for i in range(0,len(indices)):\n",
    "                    min3,idx=finding_min(MachineA,indices)\n",
    "                    Sequence2.append(jobs_lst[idx])\n",
    "                    MachineA.pop(idx)\n",
    "                    MachineB.pop(idx)\n",
    "                    jobs_lst.pop(idx)\n",
    "                    indices.remove(idx)\n",
    "                    i=i+1\n",
    "        else:\n",
    "            Sequence2.append(jobs_lst[min2_idx])\n",
    "            jobs_lst.pop(min2_idx)\n",
    "            MachineA.pop(min2_idx)\n",
    "            MachineB.pop(min2_idx)\n",
    "    \n",
    "    #Checking for tie condition in time in MA and MB\n",
    "    elif min1==min2:\n",
    "        if min1_idx!=min2_idx:\n",
    "            Sequence1.append(jobs_lst[min1_idx])\n",
    "            jobs_lst.pop(min1_idx)\n",
    "            MachineA.pop(min1_idx)\n",
    "            MachineB.pop(min1_idx)\n",
    "            Sequence2.append(jobs_lst[min2_idx])\n",
    "            jobs_lst.pop(min2_idx)\n",
    "            MachineA.pop(min2_idx)\n",
    "            MachineB.pop(min2_idx)\n",
    "        else:\n",
    "            Sequence1.append(jobs_lst[min1_idx])\n",
    "            jobs_lst.pop(min1_idx)\n",
    "            MachineA.pop(min1_idx)\n",
    "            MachineB.pop(min1_idx)\n",
    "\n",
    "#Adding Optimal sequences for MA and MB to get final sequence\n",
    "Sequence=Sequence1+Sequence2[::-1] #Sequence 2 reveresed since least time was appended in the beginning of the list\n",
    "print(\"Optimal Sequence is \",Sequence)"
   ]
  },
  {
   "cell_type": "code",
   "execution_count": null,
   "metadata": {},
   "outputs": [],
   "source": []
  }
 ],
 "metadata": {
  "kernelspec": {
   "display_name": "Python 3",
   "language": "python",
   "name": "python3"
  },
  "language_info": {
   "codemirror_mode": {
    "name": "ipython",
    "version": 3
   },
   "file_extension": ".py",
   "mimetype": "text/x-python",
   "name": "python",
   "nbconvert_exporter": "python",
   "pygments_lexer": "ipython3",
   "version": "3.8.5"
  }
 },
 "nbformat": 4,
 "nbformat_minor": 4
}
