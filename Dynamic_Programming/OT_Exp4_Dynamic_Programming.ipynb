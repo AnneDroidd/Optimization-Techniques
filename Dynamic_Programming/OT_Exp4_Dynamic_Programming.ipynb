{
  "nbformat": 4,
  "nbformat_minor": 0,
  "metadata": {
    "colab": {
      "name": "OT_Exp4_Dynamic_Programming.ipynb",
      "provenance": []
    },
    "kernelspec": {
      "name": "python3",
      "display_name": "Python 3"
    },
    "language_info": {
      "name": "python"
    }
  },
  "cells": [
    {
      "cell_type": "markdown",
      "metadata": {
        "id": "eNJbRhBWo1fd"
      },
      "source": [
        "# Dynamic Programming"
      ]
    },
    {
      "cell_type": "markdown",
      "metadata": {
        "id": "It3T7soGp-mi"
      },
      "source": [
        "### When coins = [1,2,3]   Total Sum = 9\n"
      ]
    },
    {
      "cell_type": "code",
      "metadata": {
        "id": "2bJwkHSWp646"
      },
      "source": [
        "coins=[1,2,3]\n",
        "n=9"
      ],
      "execution_count": 2,
      "outputs": []
    },
    {
      "cell_type": "code",
      "metadata": {
        "id": "5ioNkk7-o6Oq"
      },
      "source": [
        "def min_coins(n):\n",
        "  if n<0:\n",
        "    return float('inf')\n",
        "  elif n==0:\n",
        "    return 0\n",
        "  else:\n",
        "    return min(num_coins(n-1), num_coins(n-2), num_coins(n-3))+1"
      ],
      "execution_count": 3,
      "outputs": []
    },
    {
      "cell_type": "code",
      "metadata": {
        "colab": {
          "base_uri": "https://localhost:8080/",
          "height": 0
        },
        "id": "XaHWB9Cop5R2",
        "outputId": "2f2ce273-9e28-4706-b157-69f90a5e3be5"
      },
      "source": [
        "num_coins(9)"
      ],
      "execution_count": 4,
      "outputs": [
        {
          "output_type": "execute_result",
          "data": {
            "text/plain": [
              "3"
            ]
          },
          "metadata": {
            "tags": []
          },
          "execution_count": 4
        }
      ]
    },
    {
      "cell_type": "markdown",
      "metadata": {
        "id": "tAN9ZuAYq1Es"
      },
      "source": [
        "### When coins=[1,3,4,5] Total sum =20"
      ]
    },
    {
      "cell_type": "code",
      "metadata": {
        "id": "RP19tw7tqPNQ"
      },
      "source": [
        "def min_coins(n):\n",
        "  if n<0:\n",
        "    return float('inf')\n",
        "  elif n==0:\n",
        "    return 0\n",
        "  else:\n",
        "    return min(num_coins(n-1), num_coins(n-3), num_coins(n-4), num_coins(n-5))+1"
      ],
      "execution_count": 5,
      "outputs": []
    },
    {
      "cell_type": "code",
      "metadata": {
        "colab": {
          "base_uri": "https://localhost:8080/",
          "height": 0
        },
        "id": "y5cPGSnkrED7",
        "outputId": "32570381-ce62-4e59-e102-964d4be0a78f"
      },
      "source": [
        "coins=[1,3,4,5]\n",
        "num_coins(20)"
      ],
      "execution_count": 6,
      "outputs": [
        {
          "output_type": "execute_result",
          "data": {
            "text/plain": [
              "4"
            ]
          },
          "metadata": {
            "tags": []
          },
          "execution_count": 6
        }
      ]
    },
    {
      "cell_type": "markdown",
      "metadata": {
        "id": "eesCBv0NrQzc"
      },
      "source": [
        "### When coins=[1,3,6] Total sum =55"
      ]
    },
    {
      "cell_type": "code",
      "metadata": {
        "id": "o8cCPkV3rPj1"
      },
      "source": [
        "def min_coins(n):\n",
        "  if n<0:\n",
        "    return float('inf')\n",
        "  elif n==0:\n",
        "    return 0\n",
        "  else:\n",
        "    return min(num_coins(n-1), num_coins(n-3), num_coins(n-6))+1"
      ],
      "execution_count": 7,
      "outputs": []
    },
    {
      "cell_type": "code",
      "metadata": {
        "colab": {
          "base_uri": "https://localhost:8080/",
          "height": 0
        },
        "id": "nHmVkIQCrdI0",
        "outputId": "7748d4db-4b1e-4a25-b15f-58dd6ce886af"
      },
      "source": [
        "coins=[1,3,6]\n",
        "num_coins(55)"
      ],
      "execution_count": 12,
      "outputs": [
        {
          "output_type": "execute_result",
          "data": {
            "text/plain": [
              "10"
            ]
          },
          "metadata": {
            "tags": []
          },
          "execution_count": 12
        }
      ]
    },
    {
      "cell_type": "code",
      "metadata": {
        "id": "cgkCGKcXrhIV"
      },
      "source": [
        ""
      ],
      "execution_count": null,
      "outputs": []
    }
  ]
}