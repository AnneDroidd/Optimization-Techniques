{
 "cells": [
  {
   "cell_type": "markdown",
   "metadata": {},
   "source": [
    "# North West Corner Method "
   ]
  },
  {
   "cell_type": "code",
   "execution_count": 15,
   "metadata": {},
   "outputs": [],
   "source": [
    "arr=[[5,7,8],[4,4,7],[6,7,7]]\n",
    "Demand=[65,42,43]\n",
    "Supply=[70,30,50]\n",
    "cost=0"
   ]
  },
  {
   "cell_type": "code",
   "execution_count": 16,
   "metadata": {},
   "outputs": [
    {
     "name": "stdout",
     "output_type": "stream",
     "text": [
      "Total transportation cost =  830\n"
     ]
    }
   ],
   "source": [
    "i=0\n",
    "j=0\n",
    "while (i<3 and j<3):\n",
    "    min1=min(Demand[j],Supply[i])\n",
    "    cost=cost+arr[i][j]*min1\n",
    "    Demand[j]=Demand[j]-min1\n",
    "    Supply[i]=Supply[i]-min1\n",
    "    if Demand[j]==0:\n",
    "        j+=1\n",
    "    if Supply[i]==0:\n",
    "        i+=1\n",
    "print(\"Total transportation cost = \",cost)"
   ]
  },
  {
   "cell_type": "code",
   "execution_count": null,
   "metadata": {},
   "outputs": [],
   "source": []
  }
 ],
 "metadata": {
  "kernelspec": {
   "display_name": "Python 3",
   "language": "python",
   "name": "python3"
  },
  "language_info": {
   "codemirror_mode": {
    "name": "ipython",
    "version": 3
   },
   "file_extension": ".py",
   "mimetype": "text/x-python",
   "name": "python",
   "nbconvert_exporter": "python",
   "pygments_lexer": "ipython3",
   "version": "3.8.5"
  }
 },
 "nbformat": 4,
 "nbformat_minor": 4
}
