{
 "cells": [
  {
   "cell_type": "markdown",
   "metadata": {},
   "source": [
    "# Queuing Model 1 Parameters"
   ]
  },
  {
   "cell_type": "markdown",
   "metadata": {},
   "source": [
    "#### Problem Statement: \n",
    "Workers come to tool store room to receive special tools ( required by them) for accomplishing a particular project assigned to them. The average time between two arrivals is 60 seconds and the arrivals are assumed to be in Poisson distribution. The average service time ( of the tool room attendant ) is 40 seconds. Determine through a software program:\n",
    "1)\tAverage queue length\n",
    "\n",
    "2) average length of non empty queues \n",
    "\n",
    "3) average number of workers in system including the worker being attended.\n",
    "\n",
    "4) mean waiting time of an arrival. \n",
    "\n",
    "5) average waiting time of an arrival ( worker) who waits. \n",
    "\n",
    "6) Probability that the tool room attendant remains idle."
   ]
  },
  {
   "cell_type": "code",
   "execution_count": 4,
   "metadata": {},
   "outputs": [
    {
     "name": "stdout",
     "output_type": "stream",
     "text": [
      "Enter average time between 2 arrivals60\n",
      "Enter service time40\n"
     ]
    }
   ],
   "source": [
    "#Accepting time between arrivals and service time\n",
    "t1 = int(input(\"Enter average time between 2 arrivals : \"))\n",
    "t2 = int(input(\"Enter service time : \"))"
   ]
  },
  {
   "cell_type": "code",
   "execution_count": 5,
   "metadata": {},
   "outputs": [],
   "source": [
    "# calculating mean customer arrival rate\n",
    "lambd = 1/t1\n",
    "# calculating mean service rate\n",
    "mu = 1/t2"
   ]
  },
  {
   "cell_type": "code",
   "execution_count": 16,
   "metadata": {},
   "outputs": [
    {
     "name": "stdout",
     "output_type": "stream",
     "text": [
      "Average queue length =  1.33 worker\n"
     ]
    }
   ],
   "source": [
    "# Average queue length\n",
    "Lq=(lambd/mu)*(lambd/(mu-lambd))\n",
    "print(\"Average queue length = \",round(Lq,2),\"worker\")"
   ]
  },
  {
   "cell_type": "code",
   "execution_count": 15,
   "metadata": {},
   "outputs": [
    {
     "name": "stdout",
     "output_type": "stream",
     "text": [
      "Average length of non empty queues=  3.0 worker\n"
     ]
    }
   ],
   "source": [
    "# Average length of non empty queues \n",
    "Lb = mu/(mu-lambd)\n",
    "print(\"Average length of non empty queues= \",round(Lb,2),\"worker\")"
   ]
  },
  {
   "cell_type": "code",
   "execution_count": 14,
   "metadata": {},
   "outputs": [
    {
     "name": "stdout",
     "output_type": "stream",
     "text": [
      "average number of workers in system including the worker being attended 2.0  worker\n"
     ]
    }
   ],
   "source": [
    "# average number of workers in system including the worker being attended\n",
    "Ls=lambd/(mu-lambd)\n",
    "print('average number of workers in system including the worker being attended',round(Ls,2),\" worker\")"
   ]
  },
  {
   "cell_type": "code",
   "execution_count": 20,
   "metadata": {},
   "outputs": [
    {
     "name": "stdout",
     "output_type": "stream",
     "text": [
      "Mean waiting time of an arrival=  1.33 mins\n"
     ]
    }
   ],
   "source": [
    "# mean waiting time of an arrival\n",
    "Wq=(1/mu)*(lambd/(mu-lambd))\n",
    "Wq_in_s=Wq/60\n",
    "print(\"Mean waiting time of an arrival= \",round(Wq_in_s,2),\"mins\")"
   ]
  },
  {
   "cell_type": "code",
   "execution_count": 17,
   "metadata": {},
   "outputs": [
    {
     "name": "stdout",
     "output_type": "stream",
     "text": [
      "average waiting time of an arrival (worker) who waits 2.0 mins\n"
     ]
    }
   ],
   "source": [
    "# average waiting time of an arrival (worker) who waits\n",
    "Pw=1/(mu-lambd)\n",
    "Pw_in_mins = Pw/60 \n",
    "print(\"Average waiting time of an arrival (worker) who waits\",round(Pw_in_mins,2),\"mins\")"
   ]
  },
  {
   "cell_type": "code",
   "execution_count": 19,
   "metadata": {},
   "outputs": [
    {
     "name": "stdout",
     "output_type": "stream",
     "text": [
      "Probability that the tool room attendant remains idle =  0.33\n"
     ]
    }
   ],
   "source": [
    "# Probability that the tool room attendant remains idle\n",
    "P0=1-(lambd/mu)\n",
    "print(\"Probability that the tool room attendant remains idle = \",round(P0,2))"
   ]
  },
  {
   "cell_type": "code",
   "execution_count": null,
   "metadata": {},
   "outputs": [],
   "source": []
  }
 ],
 "metadata": {
  "kernelspec": {
   "display_name": "Python 3",
   "language": "python",
   "name": "python3"
  },
  "language_info": {
   "codemirror_mode": {
    "name": "ipython",
    "version": 3
   },
   "file_extension": ".py",
   "mimetype": "text/x-python",
   "name": "python",
   "nbconvert_exporter": "python",
   "pygments_lexer": "ipython3",
   "version": "3.8.5"
  }
 },
 "nbformat": 4,
 "nbformat_minor": 4
}
